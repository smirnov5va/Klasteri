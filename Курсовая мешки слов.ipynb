{
 "cells": [
  {
   "cell_type": "code",
   "execution_count": 114,
   "id": "cb18e147",
   "metadata": {
    "ExecuteTime": {
     "end_time": "2022-12-09T08:16:20.067235Z",
     "start_time": "2022-12-09T08:16:20.057684Z"
    }
   },
   "outputs": [],
   "source": [
    "import pandas as pd\n",
    "import nltk\n",
    "import pymorphy2\n",
    "from collections import Counter\n",
    "from tqdm.notebook import tqdm\n",
    "from sklearn.feature_extraction.text import CountVectorizer\n",
    "from sklearn.feature_extraction.text import TfidfVectorizer"
   ]
  },
  {
   "cell_type": "code",
   "execution_count": 108,
   "id": "ab194177",
   "metadata": {
    "ExecuteTime": {
     "end_time": "2022-12-09T08:04:48.511256Z",
     "start_time": "2022-12-09T08:04:47.631963Z"
    }
   },
   "outputs": [],
   "source": [
    "dfdf = pd.read_excel('/Users/thebest/Desktop/python/Учеба/курсовая работа /sciencedir_title — копия.xlsx').drop(columns = ['Unnamed: 0'])\n",
    "\n",
    "sent_teg_list = ['NOUN', 'ADJF', 'ADJS', 'VERB', 'INFN', 'ADVB']\n",
    "\n",
    "texts_1 = dfdf['Заголовок']\n",
    "texts_2 = dfdf['Издательство']\n",
    "\n",
    "morf = pymorphy2.MorphAnalyzer()\n",
    "\n",
    "tokens_full_list_title = []\n",
    "tokens_title_sent = []\n",
    "tokens_full_list_publ = []\n",
    "tokens_publ_sent = []\n",
    "\n",
    "# Для заголовков\n",
    "for text in (texts_1):\n",
    "    tokens_0 = nltk.word_tokenize(text)\n",
    "    tokens_1 = []\n",
    "    for token in tokens_0:\n",
    "        token_morf_inf = morf.parse(token)\n",
    "        if token_morf_inf[0].tag.POS in sent_teg_list:\n",
    "            tokens_1.append(token_morf_inf[0].normal_form)\n",
    "    tokens_full_list_title.extend(tokens_1)\n",
    "\n",
    "    sentence = ' '.join(tokens_1)\n",
    "    tokens_title_sent.append(sentence)\n",
    "    \n",
    "# Для Издательств\n",
    "for text in (texts_2):\n",
    "    tokens_2 = nltk.word_tokenize(text)\n",
    "    tokens_3 = []\n",
    "    for token in tokens_2:\n",
    "        token_morf_inf = morf.parse(token)\n",
    "        if token_morf_inf[0].tag.POS in sent_teg_list:\n",
    "            tokens_3.append(token_morf_inf[0].normal_form)\n",
    "    tokens_full_list_publ.extend(tokens_3)\n",
    "    \n",
    "    sentence_1 = ' '.join(tokens_3)\n",
    "    tokens_publ_sent.append(sentence_1)\n",
    "\n",
    "\n",
    "pd.DataFrame(dict(Counter(tokens_full_list_title)).items()).to_excel('Мешок_слов_заголовки.xlsx')\n",
    "pd.DataFrame(dict(Counter(tokens_full_list_publ)).items()).to_excel('Мешок_слов_издательства.xlsx')\n",
    "pd.DataFrame(tokens_title_sent).to_csv('нейтральные_предложения_заголовки.csv')\n",
    "pd.DataFrame(tokens_publ_sent).to_csv('нейтральные_предложения_издательства.csv')\n",
    "\n",
    "# Частотность (TF (term frequency — частота слова) – отношение числа вхождений слова к общему числу слов документа.\n",
    "\n",
    "converter = TfidfVectorizer(max_features = 1500)\n",
    "pd.DataFrame(converter.fit_transform(tokens_title_sent).toarray(), columns = converter.get_feature_names_out()).sum().to_excel('title_tfidf.xlsx')\n",
    "pd.DataFrame(converter.fit_transform(tokens_publ_sent).toarray(), columns = converter.get_feature_names_out()).sum().to_excel('publisher_tfidf.xlsx')\n",
    "\n"
   ]
  },
  {
   "cell_type": "code",
   "execution_count": 135,
   "id": "5d32d5dc",
   "metadata": {
    "ExecuteTime": {
     "end_time": "2022-12-09T08:38:12.979044Z",
     "start_time": "2022-12-09T08:38:12.946781Z"
    }
   },
   "outputs": [
    {
     "data": {
      "text/html": [
       "<div>\n",
       "<style scoped>\n",
       "    .dataframe tbody tr th:only-of-type {\n",
       "        vertical-align: middle;\n",
       "    }\n",
       "\n",
       "    .dataframe tbody tr th {\n",
       "        vertical-align: top;\n",
       "    }\n",
       "\n",
       "    .dataframe thead th {\n",
       "        text-align: right;\n",
       "    }\n",
       "</style>\n",
       "<table border=\"1\" class=\"dataframe\">\n",
       "  <thead>\n",
       "    <tr style=\"text-align: right;\">\n",
       "      <th></th>\n",
       "      <th>0</th>\n",
       "      <th>1</th>\n",
       "      <th>2</th>\n",
       "      <th>3</th>\n",
       "      <th>4</th>\n",
       "      <th>5</th>\n",
       "      <th>6</th>\n",
       "      <th>7</th>\n",
       "      <th>8</th>\n",
       "      <th>9</th>\n",
       "      <th>...</th>\n",
       "      <th>658</th>\n",
       "      <th>659</th>\n",
       "      <th>660</th>\n",
       "      <th>661</th>\n",
       "      <th>662</th>\n",
       "      <th>663</th>\n",
       "      <th>664</th>\n",
       "      <th>665</th>\n",
       "      <th>666</th>\n",
       "      <th>667</th>\n",
       "    </tr>\n",
       "  </thead>\n",
       "  <tbody>\n",
       "    <tr>\n",
       "      <th>0</th>\n",
       "      <td>набор</td>\n",
       "      <td>данные</td>\n",
       "      <td>арбитраж</td>\n",
       "      <td>биткоина</td>\n",
       "      <td>различный</td>\n",
       "      <td>криптовалютный</td>\n",
       "      <td>биржа</td>\n",
       "      <td>детерминант</td>\n",
       "      <td>ликвидность</td>\n",
       "      <td>сетевой</td>\n",
       "      <td>...</td>\n",
       "      <td>песочница</td>\n",
       "      <td>база</td>\n",
       "      <td>путь</td>\n",
       "      <td>межтоварный</td>\n",
       "      <td>сообщество</td>\n",
       "      <td>нормативный</td>\n",
       "      <td>технический</td>\n",
       "      <td>зависимый</td>\n",
       "      <td>китайский</td>\n",
       "      <td>частотно-временной</td>\n",
       "    </tr>\n",
       "    <tr>\n",
       "      <th>1</th>\n",
       "      <td>1</td>\n",
       "      <td>5</td>\n",
       "      <td>4</td>\n",
       "      <td>58</td>\n",
       "      <td>1</td>\n",
       "      <td>34</td>\n",
       "      <td>5</td>\n",
       "      <td>3</td>\n",
       "      <td>8</td>\n",
       "      <td>2</td>\n",
       "      <td>...</td>\n",
       "      <td>1</td>\n",
       "      <td>1</td>\n",
       "      <td>1</td>\n",
       "      <td>1</td>\n",
       "      <td>1</td>\n",
       "      <td>1</td>\n",
       "      <td>1</td>\n",
       "      <td>1</td>\n",
       "      <td>1</td>\n",
       "      <td>1</td>\n",
       "    </tr>\n",
       "  </tbody>\n",
       "</table>\n",
       "<p>2 rows × 668 columns</p>\n",
       "</div>"
      ],
      "text/plain": [
       "     0       1         2         3          4               5      6    \\\n",
       "0  набор  данные  арбитраж  биткоина  различный  криптовалютный  биржа   \n",
       "1      1       5         4        58          1              34      5   \n",
       "\n",
       "           7            8        9    ...        658   659   660          661  \\\n",
       "0  детерминант  ликвидность  сетевой  ...  песочница  база  путь  межтоварный   \n",
       "1            3            8        2  ...          1     1     1            1   \n",
       "\n",
       "          662          663          664        665        666  \\\n",
       "0  сообщество  нормативный  технический  зависимый  китайский   \n",
       "1           1            1            1          1          1   \n",
       "\n",
       "                  667  \n",
       "0  частотно-временной  \n",
       "1                   1  \n",
       "\n",
       "[2 rows x 668 columns]"
      ]
     },
     "execution_count": 135,
     "metadata": {},
     "output_type": "execute_result"
    }
   ],
   "source": [
    "pd.DataFrame(dict(Counter(tokens_full_list_title)).items()).T\n"
   ]
  },
  {
   "cell_type": "code",
   "execution_count": 172,
   "id": "ab5ec35d",
   "metadata": {
    "ExecuteTime": {
     "end_time": "2022-12-09T13:48:23.791845Z",
     "start_time": "2022-12-09T13:48:23.710353Z"
    }
   },
   "outputs": [
    {
     "data": {
      "text/plain": [
       "max              0.696941\n",
       "автономный       0.314063\n",
       "авторегрессия    0.434487\n",
       "агентство        0.459643\n",
       "адаптивный       0.535609\n",
       "                   ...   \n",
       "эффективность    3.606353\n",
       "эффективный      1.180437\n",
       "южный            0.305749\n",
       "являться         2.211110\n",
       "япония           0.305749\n",
       "Length: 666, dtype: float64"
      ]
     },
     "execution_count": 172,
     "metadata": {},
     "output_type": "execute_result"
    }
   ],
   "source": [
    "import sklearn\n",
    "from sklearn.feature_extraction.text import CountVectorizer\n",
    "from sklearn.feature_extraction.text import TfidfVectorizer\n",
    "\n",
    "converter = TfidfVectorizer(max_features = 1500)\n",
    "pd.DataFrame(converter.fit_transform(tokens_title_sent).toarray(), columns = converter.get_feature_names_out()).sum()\n",
    "\n"
   ]
  },
  {
   "cell_type": "code",
   "execution_count": 169,
   "id": "52cc2194",
   "metadata": {
    "ExecuteTime": {
     "end_time": "2022-12-09T13:33:25.426099Z",
     "start_time": "2022-12-09T13:33:25.337156Z"
    }
   },
   "outputs": [
    {
     "data": {
      "text/plain": [
       "max               1\n",
       "автономный        1\n",
       "авторегрессия     1\n",
       "агентство         1\n",
       "адаптивный        1\n",
       "                 ..\n",
       "эффективность    11\n",
       "эффективный       3\n",
       "южный             1\n",
       "являться          5\n",
       "япония            1\n",
       "Length: 666, dtype: int64"
      ]
     },
     "execution_count": 169,
     "metadata": {},
     "output_type": "execute_result"
    }
   ],
   "source": [
    "\n",
    "converter = CountVectorizer(max_features = 1500)\n",
    "\n",
    "pd.DataFrame(converter.fit_transform(tokens_full_list_title).toarray(), columns = converter.get_feature_names_out()).sum()\n"
   ]
  },
  {
   "cell_type": "code",
   "execution_count": 171,
   "id": "1b8a8310",
   "metadata": {
    "ExecuteTime": {
     "end_time": "2022-12-09T13:47:55.190298Z",
     "start_time": "2022-12-09T13:47:55.168557Z"
    }
   },
   "outputs": [
    {
     "data": {
      "text/plain": [
       "max               1\n",
       "автономный        1\n",
       "авторегрессия     1\n",
       "агентство         1\n",
       "адаптивный        1\n",
       "                 ..\n",
       "эффективность    11\n",
       "эффективный       3\n",
       "южный             1\n",
       "являться          5\n",
       "япония            1\n",
       "Length: 666, dtype: int64"
      ]
     },
     "execution_count": 171,
     "metadata": {},
     "output_type": "execute_result"
    }
   ],
   "source": [
    "pd.DataFrame(converter.fit_transform(tokens_title_sent).toarray(), columns = converter.get_feature_names_out()).sum()"
   ]
  },
  {
   "cell_type": "code",
   "execution_count": null,
   "id": "04e04d7b",
   "metadata": {},
   "outputs": [],
   "source": []
  }
 ],
 "metadata": {
  "kernelspec": {
   "display_name": "Python 3 (ipykernel)",
   "language": "python",
   "name": "python3"
  },
  "language_info": {
   "codemirror_mode": {
    "name": "ipython",
    "version": 3
   },
   "file_extension": ".py",
   "mimetype": "text/x-python",
   "name": "python",
   "nbconvert_exporter": "python",
   "pygments_lexer": "ipython3",
   "version": "3.9.12"
  },
  "toc": {
   "base_numbering": 1,
   "nav_menu": {},
   "number_sections": true,
   "sideBar": true,
   "skip_h1_title": false,
   "title_cell": "Table of Contents",
   "title_sidebar": "Contents",
   "toc_cell": false,
   "toc_position": {},
   "toc_section_display": true,
   "toc_window_display": false
  }
 },
 "nbformat": 4,
 "nbformat_minor": 5
}
