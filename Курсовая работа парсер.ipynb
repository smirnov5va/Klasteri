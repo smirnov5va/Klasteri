{
 "cells": [
  {
   "cell_type": "code",
   "execution_count": 188,
   "id": "09e30a1e",
   "metadata": {
    "ExecuteTime": {
     "end_time": "2022-12-07T19:07:01.766069Z",
     "start_time": "2022-12-07T19:07:01.739871Z"
    }
   },
   "outputs": [
    {
     "ename": "SyntaxError",
     "evalue": "invalid syntax (3552397927.py, line 53)",
     "output_type": "error",
     "traceback": [
      "\u001b[0;36m  Cell \u001b[0;32mIn [188], line 53\u001b[0;36m\u001b[0m\n\u001b[0;31m    titles_list_3 = []\u001b[0m\n\u001b[0m    ^\u001b[0m\n\u001b[0;31mSyntaxError\u001b[0m\u001b[0;31m:\u001b[0m invalid syntax\n"
     ]
    }
   ],
   "source": [
    "from selenium import webdriver\n",
    "from webdriver_manager.chrome import ChromeDriverManager\n",
    "from time import sleep\n",
    "from random import uniform\n",
    "from bs4 import BeautifulSoup\n",
    "from selenium.webdriver.common.keys import Keys\n",
    "import pandas as pd\n",
    "from re import sub\n",
    "from pprint import pprint\n",
    "from selenium.webdriver.common.by import By\n",
    "from openpyxl.workbook import Workbook\n",
    "\n",
    "\n",
    "# Опции\n",
    "options = webdriver.ChromeOptions()\n",
    "options.add_experimental_option(\"useAutomationExtension\", False)\n",
    "options.add_experimental_option(\"excludeSwitches\", [\"enable-automation\"])\n",
    "options.add_argument('--incognito')\n",
    "options.add_argument('--ignore-certificate-errors')\n",
    "browser = webdriver.Chrome(ChromeDriverManager().install(), chrome_options = options)\n",
    "\n",
    "browser.get('https://www.sciencedirect.com/search?qs=Bitcoin%20arbitrage%20in%20different%20cryptocurrency%20exchanges&show=100')\n",
    "sleep (uniform (3, 5))\n",
    "\n",
    "\n",
    "# Добываем заголовки 1 страницы\n",
    "titles_list_1 = []\n",
    "\n",
    "page_inf = browser.page_source\n",
    "soup = BeautifulSoup(page_inf)\n",
    "inf_1 = soup.find('div', {'id':'srp-results-list'})\n",
    "inf_titles = inf_1.findAll('span', {'class':'anchor-text'})\n",
    "\n",
    "for title in inf_titles:\n",
    "    titles_list_1.append(title.text.strip())\n",
    "\n",
    "next_button = browser.find_element(By.XPATH,'//*[@id=\"srp-pagination\"]/li[2]').click()\n",
    "sleep (uniform (1, 5))\n",
    "\n",
    "# Добываем заголовки 2 страницы\n",
    "titles_list_2 = []\n",
    "\n",
    "page_inf = browser.page_source\n",
    "soup = BeautifulSoup(page_inf)\n",
    "inf_2 = soup.find('div', {'id':'srp-results-list'})\n",
    "inf_titles_2 = inf_2.findAll('span', {'class':'anchor-text'})\n",
    "\n",
    "for title in inf_titles_2:\n",
    "    titles_list_2.append(title.text.strip())\n",
    "\n",
    "next_button = browser.find_element(By.XPATH,'//*[@id=\"srp-pagination\"]/li[3]').click()\n",
    "sleep (uniform (1, 5)\n",
    "\n",
    "# Добываем заголовки 3 страницы\n",
    "titles_list_3 = []\n",
    "       \n",
    "page_inf = browser.page_source\n",
    "soup = BeautifulSoup(page_inf)\n",
    "inf_3 = soup.find('div', {'id':'srp-results-list'})\n",
    "inf_titles_3 = inf_3.findAll('span', {'class':'anchor-text'})\n",
    "\n",
    "for title in inf_titles_3:\n",
    "    titles_list_3.append(title.text.strip())\n",
    "\n",
    "# Собираем массив данных\n",
    "all_titles_list = titles_list_1 + titles_list_2 + titles_list_3\n",
    "\n",
    "tage_name = 'View PDF'\n",
    "new_ = []\n",
    "for item in all_titles_list:\n",
    "    if tage_name not in item:\n",
    "        new_.append(item)\n",
    "\n",
    "new_title_list = new_[::2]\n",
    "description_list = new_[1::2]\n",
    "\n",
    "# Сохранение данных\n",
    "df = pd.DataFrame(list(zip(new_title_list, description_list)), columns = ['Заголовок', 'Аннотация',])\n",
    "df.to_excel(\"sciencedir_title.xlsx\")\n",
    "df.to_csv(\"sciencedir_title.csv\")\n",
    "       \n",
    "browser.close()"
   ]
  },
  {
   "cell_type": "code",
   "execution_count": 3,
   "id": "e0c502e8",
   "metadata": {
    "ExecuteTime": {
     "end_time": "2022-12-30T12:24:47.666461Z",
     "start_time": "2022-12-30T12:24:20.060264Z"
    }
   },
   "outputs": [
    {
     "name": "stderr",
     "output_type": "stream",
     "text": [
      "/var/folders/lx/m59gdlzs4ss_5_t5k3xl58f80000gn/T/ipykernel_2268/3291029823.py:20: DeprecationWarning: executable_path has been deprecated, please pass in a Service object\n",
      "  browser = webdriver.Chrome(ChromeDriverManager().install(), chrome_options = options)\n",
      "/var/folders/lx/m59gdlzs4ss_5_t5k3xl58f80000gn/T/ipykernel_2268/3291029823.py:20: DeprecationWarning: use options instead of chrome_options\n",
      "  browser = webdriver.Chrome(ChromeDriverManager().install(), chrome_options = options)\n"
     ]
    }
   ],
   "source": [
    "from selenium import webdriver\n",
    "from webdriver_manager.chrome import ChromeDriverManager\n",
    "from time import sleep\n",
    "from random import uniform\n",
    "from bs4 import BeautifulSoup\n",
    "from selenium.webdriver.common.keys import Keys\n",
    "import pandas as pd\n",
    "from re import sub\n",
    "from pprint import pprint\n",
    "from selenium.webdriver.common.by import By\n",
    "from openpyxl.workbook import Workbook\n",
    "\n",
    "\n",
    "# Опции\n",
    "options = webdriver.ChromeOptions()\n",
    "options.add_experimental_option(\"useAutomationExtension\", False)\n",
    "options.add_experimental_option(\"excludeSwitches\", [\"enable-automation\"])\n",
    "options.add_argument('--incognito')\n",
    "options.add_argument('--ignore-certificate-errors')\n",
    "browser = webdriver.Chrome(ChromeDriverManager().install(), chrome_options = options)\n",
    "\n",
    "browser.get('https://ohotaktiv.ru/action/?set_filter=y&arrFilter_1740_3596227959=Y')\n",
    "sleep (uniform (3, 5))"
   ]
  },
  {
   "cell_type": "code",
   "execution_count": null,
   "id": "df02226d",
   "metadata": {},
   "outputs": [],
   "source": []
  }
 ],
 "metadata": {
  "kernelspec": {
   "display_name": "Python 3 (ipykernel)",
   "language": "python",
   "name": "python3"
  },
  "language_info": {
   "codemirror_mode": {
    "name": "ipython",
    "version": 3
   },
   "file_extension": ".py",
   "mimetype": "text/x-python",
   "name": "python",
   "nbconvert_exporter": "python",
   "pygments_lexer": "ipython3",
   "version": "3.9.12"
  },
  "toc": {
   "base_numbering": 1,
   "nav_menu": {},
   "number_sections": true,
   "sideBar": true,
   "skip_h1_title": false,
   "title_cell": "Table of Contents",
   "title_sidebar": "Contents",
   "toc_cell": false,
   "toc_position": {},
   "toc_section_display": true,
   "toc_window_display": false
  }
 },
 "nbformat": 4,
 "nbformat_minor": 5
}
